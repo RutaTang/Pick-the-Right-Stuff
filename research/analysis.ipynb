{
 "cells": [
  {
   "cell_type": "code",
   "id": "initial_id",
   "metadata": {
    "collapsed": true,
    "ExecuteTime": {
     "end_time": "2024-09-25T19:21:30.466555Z",
     "start_time": "2024-09-25T19:21:30.464733Z"
    }
   },
   "source": [
    "import matplotlib.pyplot as plt\n",
    "import numpy as np\n",
    "import pandas as pd\n",
    "import seaborn as sns"
   ],
   "outputs": [],
   "execution_count": 1
  },
  {
   "metadata": {},
   "cell_type": "markdown",
   "source": "# Load data",
   "id": "f9cc319c50eb1cbe"
  },
  {
   "metadata": {
    "ExecuteTime": {
     "end_time": "2024-09-25T19:21:30.501050Z",
     "start_time": "2024-09-25T19:21:30.482903Z"
    }
   },
   "cell_type": "code",
   "source": [
    "import os\n",
    "\n",
    "data = pd.DataFrame(columns=[\"mode\", \"model\", \"score\"])\n",
    "dir_path = os.path.join(\"results\")\n",
    "file_names = os.listdir(dir_path)\n",
    "file_names = [name for name in file_names if name.endswith(\".txt\")]\n",
    "for name in file_names:\n",
    "    [mode, model, _] = name.split(\"_\")\n",
    "    mode = mode.capitalize()\n",
    "    path = os.path.join(dir_path, name)\n",
    "    with open(path) as f:\n",
    "        score = f.readline().strip()\n",
    "    data.loc[len(data)] = {\"mode\": mode, \"model\": model, \"score\": score}\n",
    "data['score'] = data['score'].astype(float)\n",
    "data"
   ],
   "id": "e4a81951c2224bb0",
   "outputs": [
    {
     "data": {
      "text/plain": [
       "      mode                model      score\n",
       "0     Zero  mistral:7b-instruct  40.000000\n",
       "1     Zero         qwen:7b-chat   5.333333\n",
       "2   Finite    gemma:7b-instruct  22.333333\n",
       "3   Finite  llama3:70b-instruct  36.000000\n",
       "4   Finite         qwen:7b-chat   8.333333\n",
       "5   Finite        gpt-3.5-turbo  31.333333\n",
       "6     Zero        gpt-3.5-turbo  36.666667\n",
       "7     Zero        qwen:72b-chat  37.333333\n",
       "8   Finite        qwen:72b-chat  30.333333\n",
       "9     Zero               gpt-4o  56.666667\n",
       "10  Finite  mistral:7b-instruct  38.333333\n",
       "11  Finite               gpt-4o  39.000000\n",
       "12    Zero    gemma:7b-instruct  27.666667\n",
       "13    Zero  llama3:70b-instruct  41.000000"
      ],
      "text/html": [
       "<div>\n",
       "<style scoped>\n",
       "    .dataframe tbody tr th:only-of-type {\n",
       "        vertical-align: middle;\n",
       "    }\n",
       "\n",
       "    .dataframe tbody tr th {\n",
       "        vertical-align: top;\n",
       "    }\n",
       "\n",
       "    .dataframe thead th {\n",
       "        text-align: right;\n",
       "    }\n",
       "</style>\n",
       "<table border=\"1\" class=\"dataframe\">\n",
       "  <thead>\n",
       "    <tr style=\"text-align: right;\">\n",
       "      <th></th>\n",
       "      <th>mode</th>\n",
       "      <th>model</th>\n",
       "      <th>score</th>\n",
       "    </tr>\n",
       "  </thead>\n",
       "  <tbody>\n",
       "    <tr>\n",
       "      <th>0</th>\n",
       "      <td>Zero</td>\n",
       "      <td>mistral:7b-instruct</td>\n",
       "      <td>40.000000</td>\n",
       "    </tr>\n",
       "    <tr>\n",
       "      <th>1</th>\n",
       "      <td>Zero</td>\n",
       "      <td>qwen:7b-chat</td>\n",
       "      <td>5.333333</td>\n",
       "    </tr>\n",
       "    <tr>\n",
       "      <th>2</th>\n",
       "      <td>Finite</td>\n",
       "      <td>gemma:7b-instruct</td>\n",
       "      <td>22.333333</td>\n",
       "    </tr>\n",
       "    <tr>\n",
       "      <th>3</th>\n",
       "      <td>Finite</td>\n",
       "      <td>llama3:70b-instruct</td>\n",
       "      <td>36.000000</td>\n",
       "    </tr>\n",
       "    <tr>\n",
       "      <th>4</th>\n",
       "      <td>Finite</td>\n",
       "      <td>qwen:7b-chat</td>\n",
       "      <td>8.333333</td>\n",
       "    </tr>\n",
       "    <tr>\n",
       "      <th>5</th>\n",
       "      <td>Finite</td>\n",
       "      <td>gpt-3.5-turbo</td>\n",
       "      <td>31.333333</td>\n",
       "    </tr>\n",
       "    <tr>\n",
       "      <th>6</th>\n",
       "      <td>Zero</td>\n",
       "      <td>gpt-3.5-turbo</td>\n",
       "      <td>36.666667</td>\n",
       "    </tr>\n",
       "    <tr>\n",
       "      <th>7</th>\n",
       "      <td>Zero</td>\n",
       "      <td>qwen:72b-chat</td>\n",
       "      <td>37.333333</td>\n",
       "    </tr>\n",
       "    <tr>\n",
       "      <th>8</th>\n",
       "      <td>Finite</td>\n",
       "      <td>qwen:72b-chat</td>\n",
       "      <td>30.333333</td>\n",
       "    </tr>\n",
       "    <tr>\n",
       "      <th>9</th>\n",
       "      <td>Zero</td>\n",
       "      <td>gpt-4o</td>\n",
       "      <td>56.666667</td>\n",
       "    </tr>\n",
       "    <tr>\n",
       "      <th>10</th>\n",
       "      <td>Finite</td>\n",
       "      <td>mistral:7b-instruct</td>\n",
       "      <td>38.333333</td>\n",
       "    </tr>\n",
       "    <tr>\n",
       "      <th>11</th>\n",
       "      <td>Finite</td>\n",
       "      <td>gpt-4o</td>\n",
       "      <td>39.000000</td>\n",
       "    </tr>\n",
       "    <tr>\n",
       "      <th>12</th>\n",
       "      <td>Zero</td>\n",
       "      <td>gemma:7b-instruct</td>\n",
       "      <td>27.666667</td>\n",
       "    </tr>\n",
       "    <tr>\n",
       "      <th>13</th>\n",
       "      <td>Zero</td>\n",
       "      <td>llama3:70b-instruct</td>\n",
       "      <td>41.000000</td>\n",
       "    </tr>\n",
       "  </tbody>\n",
       "</table>\n",
       "</div>"
      ]
     },
     "execution_count": 2,
     "metadata": {},
     "output_type": "execute_result"
    }
   ],
   "execution_count": 2
  },
  {
   "metadata": {},
   "cell_type": "markdown",
   "source": "# Plot",
   "id": "a865a5943fcf5fb0"
  },
  {
   "metadata": {
    "ExecuteTime": {
     "end_time": "2024-09-25T19:21:30.684161Z",
     "start_time": "2024-09-25T19:21:30.576716Z"
    }
   },
   "cell_type": "code",
   "source": [
    "def plot_scores(df):\n",
    "    # Get unique models and modes\n",
    "    models = df['model'].unique()\n",
    "    modes = sorted(df['mode'].unique(), key=lambda x: '0' if x == 'Zero' else x)\n",
    "\n",
    "    # Prepare the data for plotting\n",
    "    scores = {mode: df[df['mode'] == mode].set_index('model')['score'] for mode in modes}\n",
    "\n",
    "    bar_width = 0.35\n",
    "    group_width = bar_width * len(modes) + 0.5\n",
    "    index = np.arange(len(models)) * group_width\n",
    "\n",
    "    fig, ax = plt.subplots(figsize=(12, 6))\n",
    "\n",
    "    palette = sns.color_palette(\"magma\", len(modes))\n",
    "\n",
    "    # Plot each mode as separate bars\n",
    "    for i, mode in enumerate(modes):\n",
    "        bars = ax.bar(index + i * bar_width, scores[mode][models], bar_width, label=mode, color=palette[i])\n",
    "        # Annotate bars with their values\n",
    "        for bar in bars:\n",
    "            height = bar.get_height()\n",
    "            ax.annotate(f'{height:.2f}',\n",
    "                        xy=(bar.get_x() + bar.get_width() / 2, height),\n",
    "                        xytext=(0, 3),  # 3 points vertical offset\n",
    "                        textcoords=\"offset points\",\n",
    "                        ha='center', va='bottom')\n",
    "\n",
    "    # Setting labels\n",
    "    ax.set_xlabel('Model')\n",
    "    ax.set_ylabel('Score')\n",
    "    ax.set_ylim(0, 100)\n",
    "    ax.set_xticks(index + bar_width / 2)\n",
    "    ax.set_xticklabels(models, rotation=0, ha='center')\n",
    "    ax.legend()\n",
    "\n",
    "    plt.show()\n",
    "\n",
    "\n",
    "plot_scores(data)"
   ],
   "id": "5c79727aa9d50bd4",
   "outputs": [
    {
     "data": {
      "text/plain": [
       "<Figure size 1200x600 with 1 Axes>"
      ],
      "image/png": "[encoded data removed]"
     },
     "metadata": {},
     "output_type": "display_data"
    }
   ],
   "execution_count": 3
  },
  {
   "metadata": {},
   "cell_type": "markdown",
   "source": "# More ",
   "id": "b51d22a6b0ac3bce"
  },
  {
   "metadata": {
    "ExecuteTime": {
     "end_time": "2024-09-25T19:21:30.705275Z",
     "start_time": "2024-09-25T19:21:30.700138Z"
    }
   },
   "cell_type": "code",
   "source": [
    "mode_group_scores = data.groupby(\"mode\")[\"score\"].mean().reset_index()\n",
    "mode_group_scores"
   ],
   "id": "564ad0a98efa70c0",
   "outputs": [
    {
     "data": {
      "text/plain": [
       "     mode      score\n",
       "0  Finite  29.380952\n",
       "1    Zero  34.952381"
      ],
      "text/html": [
       "<div>\n",
       "<style scoped>\n",
       "    .dataframe tbody tr th:only-of-type {\n",
       "        vertical-align: middle;\n",
       "    }\n",
       "\n",
       "    .dataframe tbody tr th {\n",
       "        vertical-align: top;\n",
       "    }\n",
       "\n",
       "    .dataframe thead th {\n",
       "        text-align: right;\n",
       "    }\n",
       "</style>\n",
       "<table border=\"1\" class=\"dataframe\">\n",
       "  <thead>\n",
       "    <tr style=\"text-align: right;\">\n",
       "      <th></th>\n",
       "      <th>mode</th>\n",
       "      <th>score</th>\n",
       "    </tr>\n",
       "  </thead>\n",
       "  <tbody>\n",
       "    <tr>\n",
       "      <th>0</th>\n",
       "      <td>Finite</td>\n",
       "      <td>29.380952</td>\n",
       "    </tr>\n",
       "    <tr>\n",
       "      <th>1</th>\n",
       "      <td>Zero</td>\n",
       "      <td>34.952381</td>\n",
       "    </tr>\n",
       "  </tbody>\n",
       "</table>\n",
       "</div>"
      ]
     },
     "execution_count": 4,
     "metadata": {},
     "output_type": "execute_result"
    }
   ],
   "execution_count": 4
  },
  {
   "metadata": {
    "ExecuteTime": {
     "end_time": "2024-09-25T19:21:30.732509Z",
     "start_time": "2024-09-25T19:21:30.729611Z"
    }
   },
   "cell_type": "code",
   "source": [
    "score_difference = mode_group_scores.loc[mode_group_scores[\"mode\"] == \"Zero\", \"score\"].values[0] - mode_group_scores.loc[mode_group_scores[\"mode\"] == \"Finite\", \"score\"].values[0]\n",
    "score_difference"
   ],
   "id": "748017ef686f22b3",
   "outputs": [
    {
     "data": {
      "text/plain": [
       "5.5714285714285765"
      ]
     },
     "execution_count": 5,
     "metadata": {},
     "output_type": "execute_result"
    }
   ],
   "execution_count": 5
  },
  {
   "metadata": {
    "ExecuteTime": {
     "end_time": "2024-09-25T19:21:30.812366Z",
     "start_time": "2024-09-25T19:21:30.810720Z"
    }
   },
   "cell_type": "code",
   "source": "",
   "id": "885364e6596cd143",
   "outputs": [],
   "execution_count": null
  },
  {
   "metadata": {
    "ExecuteTime": {
     "end_time": "2024-09-25T19:21:30.850396Z",
     "start_time": "2024-09-25T19:21:30.848842Z"
    }
   },
   "cell_type": "code",
   "source": "",
   "id": "45a6cadfbb75f47e",
   "outputs": [],
   "execution_count": null
  }
 ],
 "metadata": {
  "kernelspec": {
   "display_name": "Python 3",
   "language": "python",
   "name": "python3"
  },
  "language_info": {
   "codemirror_mode": {
    "name": "ipython",
    "version": 2
   },
   "file_extension": ".py",
   "mimetype": "text/x-python",
   "name": "python",
   "nbconvert_exporter": "python",
   "pygments_lexer": "ipython2",
   "version": "2.7.6"
  }
 },
 "nbformat": 4,
 "nbformat_minor": 5
}
